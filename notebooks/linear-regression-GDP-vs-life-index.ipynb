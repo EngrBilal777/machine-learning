{
 "cells": [
  {
   "cell_type": "markdown",
   "id": "5b49488f",
   "metadata": {},
   "source": [
    "### Data sources:  \n",
    "Life index - <https://stats.oecd.org/index.aspx?DataSetCode=BLI>  \n",
    "GDP - <https://www.imf.org/en/Publications/SPROLLs/world-economic-outlook-databases>\n",
    "\n",
    "The file downloaded from IMF website could not be read using pandas, I have converted the file to CSV format using Microsoft Excel."
   ]
  },
  {
   "cell_type": "code",
   "execution_count": 1,
   "id": "97b92468",
   "metadata": {},
   "outputs": [],
   "source": [
    "import numpy as np\n",
    "import pandas as pd\n",
    "import matplotlib.pyplot as plt\n",
    "from sklearn.linear_model import LinearRegression \n",
    "\n",
    "%matplotlib inline\n",
    "plt.rcParams[\"figure.dpi\"]=150"
   ]
  },
  {
   "cell_type": "code",
   "execution_count": 2,
   "id": "e9b2900c",
   "metadata": {},
   "outputs": [
    {
     "data": {
      "text/html": [
       "<div>\n",
       "<style scoped>\n",
       "    .dataframe tbody tr th:only-of-type {\n",
       "        vertical-align: middle;\n",
       "    }\n",
       "\n",
       "    .dataframe tbody tr th {\n",
       "        vertical-align: top;\n",
       "    }\n",
       "\n",
       "    .dataframe thead th {\n",
       "        text-align: right;\n",
       "    }\n",
       "</style>\n",
       "<table border=\"1\" class=\"dataframe\">\n",
       "  <thead>\n",
       "    <tr style=\"text-align: right;\">\n",
       "      <th></th>\n",
       "      <th>LOCATION</th>\n",
       "      <th>Country</th>\n",
       "      <th>Indicator</th>\n",
       "      <th>Value</th>\n",
       "    </tr>\n",
       "  </thead>\n",
       "  <tbody>\n",
       "    <tr>\n",
       "      <th>1813</th>\n",
       "      <td>AUS</td>\n",
       "      <td>Australia</td>\n",
       "      <td>Life satisfaction</td>\n",
       "      <td>7.3</td>\n",
       "    </tr>\n",
       "    <tr>\n",
       "      <th>1814</th>\n",
       "      <td>AUT</td>\n",
       "      <td>Austria</td>\n",
       "      <td>Life satisfaction</td>\n",
       "      <td>7.1</td>\n",
       "    </tr>\n",
       "    <tr>\n",
       "      <th>1815</th>\n",
       "      <td>BEL</td>\n",
       "      <td>Belgium</td>\n",
       "      <td>Life satisfaction</td>\n",
       "      <td>6.9</td>\n",
       "    </tr>\n",
       "    <tr>\n",
       "      <th>1816</th>\n",
       "      <td>CAN</td>\n",
       "      <td>Canada</td>\n",
       "      <td>Life satisfaction</td>\n",
       "      <td>7.4</td>\n",
       "    </tr>\n",
       "    <tr>\n",
       "      <th>1817</th>\n",
       "      <td>CZE</td>\n",
       "      <td>Czech Republic</td>\n",
       "      <td>Life satisfaction</td>\n",
       "      <td>6.7</td>\n",
       "    </tr>\n",
       "  </tbody>\n",
       "</table>\n",
       "</div>"
      ],
      "text/plain": [
       "     LOCATION         Country          Indicator  Value\n",
       "1813      AUS       Australia  Life satisfaction    7.3\n",
       "1814      AUT         Austria  Life satisfaction    7.1\n",
       "1815      BEL         Belgium  Life satisfaction    6.9\n",
       "1816      CAN          Canada  Life satisfaction    7.4\n",
       "1817      CZE  Czech Republic  Life satisfaction    6.7"
      ]
     },
     "execution_count": 2,
     "metadata": {},
     "output_type": "execute_result"
    }
   ],
   "source": [
    "# load only follwing cols\n",
    "bli = pd.read_csv(\"../datasets/OECD_Better_Life_Index.csv\", \\\n",
    "                  usecols=[\"LOCATION\", \"Country\", \"Indicator\", \"Value\"])\n",
    "# select only life satisfaction\n",
    "bli = bli.loc[bli['Indicator'] == 'Life satisfaction']\n",
    "bli.head()"
   ]
  },
  {
   "cell_type": "code",
   "execution_count": 3,
   "id": "70e97186",
   "metadata": {},
   "outputs": [
    {
     "data": {
      "text/html": [
       "<div>\n",
       "<style scoped>\n",
       "    .dataframe tbody tr th:only-of-type {\n",
       "        vertical-align: middle;\n",
       "    }\n",
       "\n",
       "    .dataframe tbody tr th {\n",
       "        vertical-align: top;\n",
       "    }\n",
       "\n",
       "    .dataframe thead th {\n",
       "        text-align: right;\n",
       "    }\n",
       "</style>\n",
       "<table border=\"1\" class=\"dataframe\">\n",
       "  <thead>\n",
       "    <tr style=\"text-align: right;\">\n",
       "      <th></th>\n",
       "      <th>ISO</th>\n",
       "      <th>2020</th>\n",
       "    </tr>\n",
       "  </thead>\n",
       "  <tbody>\n",
       "    <tr>\n",
       "      <th>0</th>\n",
       "      <td>AFG</td>\n",
       "      <td>19.132</td>\n",
       "    </tr>\n",
       "    <tr>\n",
       "      <th>1</th>\n",
       "      <td>ALB</td>\n",
       "      <td>15.147</td>\n",
       "    </tr>\n",
       "    <tr>\n",
       "      <th>2</th>\n",
       "      <td>DZA</td>\n",
       "      <td>144.294</td>\n",
       "    </tr>\n",
       "    <tr>\n",
       "      <th>3</th>\n",
       "      <td>AGO</td>\n",
       "      <td>62.440</td>\n",
       "    </tr>\n",
       "    <tr>\n",
       "      <th>4</th>\n",
       "      <td>ATG</td>\n",
       "      <td>1.390</td>\n",
       "    </tr>\n",
       "  </tbody>\n",
       "</table>\n",
       "</div>"
      ],
      "text/plain": [
       "   ISO     2020\n",
       "0  AFG   19.132\n",
       "1  ALB   15.147\n",
       "2  DZA  144.294\n",
       "3  AGO   62.440\n",
       "4  ATG    1.390"
      ]
     },
     "execution_count": 3,
     "metadata": {},
     "output_type": "execute_result"
    }
   ],
   "source": [
    "gdp = pd.read_csv(\"../datasets/IMF_GDP_list.csv\", usecols=[\"ISO\", \"2020\"], thousands=\",\")\n",
    "gdp.head()"
   ]
  },
  {
   "cell_type": "code",
   "execution_count": 4,
   "id": "221414d5",
   "metadata": {},
   "outputs": [
    {
     "data": {
      "text/html": [
       "<div>\n",
       "<style scoped>\n",
       "    .dataframe tbody tr th:only-of-type {\n",
       "        vertical-align: middle;\n",
       "    }\n",
       "\n",
       "    .dataframe tbody tr th {\n",
       "        vertical-align: top;\n",
       "    }\n",
       "\n",
       "    .dataframe thead th {\n",
       "        text-align: right;\n",
       "    }\n",
       "</style>\n",
       "<table border=\"1\" class=\"dataframe\">\n",
       "  <thead>\n",
       "    <tr style=\"text-align: right;\">\n",
       "      <th></th>\n",
       "      <th>LOCATION</th>\n",
       "      <th>Country</th>\n",
       "      <th>Indicator</th>\n",
       "      <th>Value</th>\n",
       "      <th>ISO</th>\n",
       "      <th>2020</th>\n",
       "    </tr>\n",
       "  </thead>\n",
       "  <tbody>\n",
       "    <tr>\n",
       "      <th>0</th>\n",
       "      <td>AUS</td>\n",
       "      <td>Australia</td>\n",
       "      <td>Life satisfaction</td>\n",
       "      <td>7.3</td>\n",
       "      <td>AUS</td>\n",
       "      <td>1359.330</td>\n",
       "    </tr>\n",
       "    <tr>\n",
       "      <th>1</th>\n",
       "      <td>AUT</td>\n",
       "      <td>Austria</td>\n",
       "      <td>Life satisfaction</td>\n",
       "      <td>7.1</td>\n",
       "      <td>AUT</td>\n",
       "      <td>428.622</td>\n",
       "    </tr>\n",
       "    <tr>\n",
       "      <th>2</th>\n",
       "      <td>BEL</td>\n",
       "      <td>Belgium</td>\n",
       "      <td>Life satisfaction</td>\n",
       "      <td>6.9</td>\n",
       "      <td>BEL</td>\n",
       "      <td>513.087</td>\n",
       "    </tr>\n",
       "    <tr>\n",
       "      <th>3</th>\n",
       "      <td>CAN</td>\n",
       "      <td>Canada</td>\n",
       "      <td>Life satisfaction</td>\n",
       "      <td>7.4</td>\n",
       "      <td>CAN</td>\n",
       "      <td>1643.410</td>\n",
       "    </tr>\n",
       "    <tr>\n",
       "      <th>4</th>\n",
       "      <td>CZE</td>\n",
       "      <td>Czech Republic</td>\n",
       "      <td>Life satisfaction</td>\n",
       "      <td>6.7</td>\n",
       "      <td>CZE</td>\n",
       "      <td>241.455</td>\n",
       "    </tr>\n",
       "  </tbody>\n",
       "</table>\n",
       "</div>"
      ],
      "text/plain": [
       "  LOCATION         Country          Indicator  Value  ISO      2020\n",
       "0      AUS       Australia  Life satisfaction    7.3  AUS  1359.330\n",
       "1      AUT         Austria  Life satisfaction    7.1  AUT   428.622\n",
       "2      BEL         Belgium  Life satisfaction    6.9  BEL   513.087\n",
       "3      CAN          Canada  Life satisfaction    7.4  CAN  1643.410\n",
       "4      CZE  Czech Republic  Life satisfaction    6.7  CZE   241.455"
      ]
     },
     "execution_count": 4,
     "metadata": {},
     "output_type": "execute_result"
    }
   ],
   "source": [
    "df = bli.merge(gdp, left_on = 'LOCATION', right_on = 'ISO', how='left')\n",
    "df.head()"
   ]
  },
  {
   "cell_type": "code",
   "execution_count": 5,
   "id": "398f070b",
   "metadata": {
    "scrolled": false
   },
   "outputs": [
    {
     "data": {
      "image/png": "[encoded data removed]",
      "text/plain": [
       "<Figure size 900x600 with 1 Axes>"
      ]
     },
     "metadata": {
      "needs_background": "light"
     },
     "output_type": "display_data"
    }
   ],
   "source": [
    "plt.scatter(df[\"2020\"], df[\"Value\"])\n",
    "plt.show()"
   ]
  },
  {
   "cell_type": "code",
   "execution_count": null,
   "id": "347c66af",
   "metadata": {},
   "outputs": [],
   "source": []
  }
 ],
 "metadata": {
  "kernelspec": {
   "display_name": "Python 3",
   "language": "python",
   "name": "python3"
  },
  "language_info": {
   "codemirror_mode": {
    "name": "ipython",
    "version": 3
   },
   "file_extension": ".py",
   "mimetype": "text/x-python",
   "name": "python",
   "nbconvert_exporter": "python",
   "pygments_lexer": "ipython3",
   "version": "3.8.5"
  }
 },
 "nbformat": 4,
 "nbformat_minor": 5
}
