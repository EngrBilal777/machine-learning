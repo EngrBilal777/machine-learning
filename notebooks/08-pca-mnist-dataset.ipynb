{
 "cells": [
  {
   "cell_type": "markdown",
   "metadata": {},
   "source": [
    "### Dimension reduction using PCA\n",
    "\n",
    "We need to calculate projections $\\tilde{x_n}$ of original data points $x_n$ into a lower dimensional space. Our dataset $\\chi = \\{x_1, x_2, ..., x_N\\}, x_n \\in \\rm{R}^D$\n",
    "\n",
    "$\\bar{x} = \\frac{1}{N} \\sum_{n=1}^N x_n$ \n",
    "\n",
    "$cov = \\frac{1}{N} \\sum_{n=1}^N (x_n - \\bar{x})(x_n - \\bar{x})^T$ \n",
    "\n",
    "We need to find a low-dimensional representation: \n",
    "\n",
    "$z_n = B^T x_n \\in \\rm{R}^M$ where projection matrix $B = [b_1, b_2, ..., b_M] \\in \\rm{R}^{D\\times M}$\n",
    "\n",
    "We assume columns of B are orthonormal: $b_i^Tb_j = 0$ if $i\\neq j$ and $b_i^Tbi = 1$ \n",
    "\n",
    "We seek an M-dimensional subspace $U \\subseteq \\rm{R}^D, dim(U) = M < D$\n",
    "\n",
    "We have to find a $B$ for which the $|x_n-\\tilde{x}_n|^2$ loss is minimum. \n",
    "\n",
    "$z = B^T x$ and $\\tilde{x} = B z$\n",
    "\n",
    "Dataset is available at <http://yann.lecun.com/exdb/mnist/>"
   ]
  },
  {
   "cell_type": "code",
   "execution_count": 1,
   "metadata": {},
   "outputs": [],
   "source": [
    "# Load necessary packages  \n",
    "import io, gzip \n",
    "from urllib.request import urlopen\n",
    "import numpy as np\n",
    "import matplotlib.pyplot as plt \n",
    "\n",
    "%matplotlib inline"
   ]
  },
  {
   "cell_type": "code",
   "execution_count": 2,
   "metadata": {},
   "outputs": [],
   "source": [
    "# load images\n",
    "def mnist_images(url):  \n",
    "    with gzip.open(io.BytesIO(urlopen(url).read()), 'rb') as f:\n",
    "        data = np.frombuffer(f.read(), np.uint8, offset=16)\n",
    "        # consult http://yann.lecun.com/exdb/mnist/ for details \n",
    "    data = data.reshape(-1,784)\n",
    "    return data/256  # we are using int8, squared distance could be large\n",
    "\n",
    "# load image labels\n",
    "def mnist_labels(url):        \n",
    "    with gzip.open(io.BytesIO(urlopen(url).read()), 'rb') as f:\n",
    "        data = np.frombuffer(f.read(), np.uint8, offset=8)\n",
    "    return data\n",
    "\n",
    "# plot/view a specific image\n",
    "def mnist_view(im):\n",
    "    plt.axis('off')\n",
    "    plt.imshow(im.reshape((28,28)), cmap=plt.cm.gray, origin='upper')\n",
    "    plt.show()\n",
    "    return\n",
    "\n",
    "# calculate squared distance\n",
    "def dist(x1, x2):\n",
    "    return np.sum(np.square(x1-x2))\n",
    "\n",
    "# find nearest neighbor \n",
    "def find_nn(x):\n",
    "    dist_vec = [dist(x, train_data[i,]) for i in range(len(train_labels))]\n",
    "    print(\"Index: \", np.argmin(dist_vec))\n",
    "    return train_labels[np.argmin(dist_vec)]"
   ]
  },
  {
   "cell_type": "code",
   "execution_count": 3,
   "metadata": {},
   "outputs": [],
   "source": [
    "train_data = mnist_images('https://pranabdas.github.io/drive/datasets/mnist-handwritten-digits/train-images-idx3-ubyte.gz')\n",
    "test_data    = mnist_images('https://pranabdas.github.io/drive/datasets/mnist-handwritten-digits/t10k-images-idx3-ubyte.gz')\n",
    "train_labels = mnist_labels('https://pranabdas.github.io/drive/datasets/mnist-handwritten-digits/train-labels-idx1-ubyte.gz')\n",
    "test_labels  = mnist_labels('https://pranabdas.github.io/drive/datasets/mnist-handwritten-digits/t10k-labels-idx1-ubyte.gz')"
   ]
  },
  {
   "cell_type": "code",
   "execution_count": 4,
   "metadata": {},
   "outputs": [],
   "source": [
    "# Compute covariance matrix\n",
    "Sigma = np.cov(train_data, rowvar=0, bias=1)\n",
    "\n",
    "# Compute coordinate-wise variances, in increasing order\n",
    "coordinate_variances = np.sort(Sigma.diagonal())\n",
    "\n",
    "# Compute variances in eigenvector directions, in increasing order\n",
    "eigenvector_variances = np.sort(np.linalg.eigvalsh(Sigma))"
   ]
  },
  {
   "cell_type": "code",
   "execution_count": 5,
   "metadata": {},
   "outputs": [
    {
     "data": {
      "image/png": "[encoded data removed]",
      "text/plain": [
       "<Figure size 432x288 with 1 Axes>"
      ]
     },
     "metadata": {
      "needs_background": "light"
     },
     "output_type": "display_data"
    }
   ],
   "source": [
    "# Compute fraction of overall variance lost when projecting to k coordinate directions\n",
    "total_coordinate_variance = np.cumsum(coordinate_variances)\n",
    "total_coordinate_variance = total_coordinate_variance/total_coordinate_variance[783]\n",
    "\n",
    "# Compute fraction of overall variance lost when projecting to k eigenvector directions\n",
    "total_eigenvector_variance = np.cumsum(eigenvector_variances)\n",
    "total_eigenvector_variance = total_eigenvector_variance/total_eigenvector_variance[783]\n",
    "\n",
    "# Plot these results\n",
    "plt.plot(np.arange(1,784), total_coordinate_variance[784:0:-1], 'b-', lw=2)\n",
    "plt.plot(np.arange(1,784), total_eigenvector_variance[784:0:-1], 'r-', lw=2)\n",
    "plt.xlabel('projection dimension', fontsize=14)\n",
    "plt.ylabel('fraction of residual variance', fontsize=14)\n",
    "plt.xlim(0,784)\n",
    "plt.ylim(0.0,1.0)\n",
    "plt.legend(['coordinate directions', 'PCA directions'], fontsize=14)\n",
    "plt.show()"
   ]
  },
  {
   "cell_type": "code",
   "execution_count": 6,
   "metadata": {},
   "outputs": [],
   "source": [
    "eigenvalues, eigenvectors = np.linalg.eigh(Sigma)"
   ]
  },
  {
   "cell_type": "code",
   "execution_count": 7,
   "metadata": {},
   "outputs": [],
   "source": [
    "# Function that returns the project-and-reconstruct operations as a single matrix\n",
    "def projection_and_reconstruction(k):\n",
    "    U = eigenvectors[:,(784-k):784]\n",
    "    P = np.dot(U,U.T)\n",
    "    return P"
   ]
  },
  {
   "cell_type": "code",
   "execution_count": 8,
   "metadata": {},
   "outputs": [],
   "source": [
    "def show_digit(x):\n",
    "    # Make sure all entries of x are in the range [0,255]\n",
    "    for i in range(784):\n",
    "        x[i] = max(0.0, x[i])\n",
    "        x[i] = min(255.0, x[i])\n",
    "    # Now display\n",
    "    plt.axis('off')\n",
    "    plt.imshow(x.reshape((28,28)), cmap=plt.cm.gray)\n",
    "    plt.show()\n",
    "    return"
   ]
  },
  {
   "cell_type": "code",
   "execution_count": 9,
   "metadata": {},
   "outputs": [],
   "source": [
    "def show_effect_of_PCA(x, k_list):\n",
    "    print(\"Original:\")\n",
    "    show_digit(x)\n",
    "    for k in k_list:\n",
    "        if (k > 0) and (k < 784):\n",
    "            print(\"Projection to dimension \", k)\n",
    "            P = projection_and_reconstruction(k)\n",
    "            show_digit(P.dot(x))"
   ]
  },
  {
   "cell_type": "code",
   "execution_count": 10,
   "metadata": {},
   "outputs": [
    {
     "name": "stdout",
     "output_type": "stream",
     "text": [
      "Original:\n"
     ]
    },
    {
     "data": {
      "image/png": "[encoded data removed]",
      "text/plain": [
       "<Figure size 432x288 with 1 Axes>"
      ]
     },
     "metadata": {
      "needs_background": "light"
     },
     "output_type": "display_data"
    },
    {
     "name": "stdout",
     "output_type": "stream",
     "text": [
      "Projection to dimension  100\n"
     ]
    },
    {
     "data": {
      "image/png": "[encoded data removed]",
      "text/plain": [
       "<Figure size 432x288 with 1 Axes>"
      ]
     },
     "metadata": {
      "needs_background": "light"
     },
     "output_type": "display_data"
    },
    {
     "name": "stdout",
     "output_type": "stream",
     "text": [
      "Projection to dimension  50\n"
     ]
    },
    {
     "data": {
      "image/png": "[encoded data removed]",
      "text/plain": [
       "<Figure size 432x288 with 1 Axes>"
      ]
     },
     "metadata": {
      "needs_background": "light"
     },
     "output_type": "display_data"
    },
    {
     "name": "stdout",
     "output_type": "stream",
     "text": [
      "Projection to dimension  25\n"
     ]
    },
    {
     "data": {
      "image/png": "[encoded data removed]",
      "text/plain": [
       "<Figure size 432x288 with 1 Axes>"
      ]
     },
     "metadata": {
      "needs_background": "light"
     },
     "output_type": "display_data"
    },
    {
     "name": "stdout",
     "output_type": "stream",
     "text": [
      "Projection to dimension  10\n"
     ]
    },
    {
     "data": {
      "image/png": "[encoded data removed]",
      "text/plain": [
       "<Figure size 432x288 with 1 Axes>"
      ]
     },
     "metadata": {
      "needs_background": "light"
     },
     "output_type": "display_data"
    }
   ],
   "source": [
    "index = 1000\n",
    "show_effect_of_PCA(train_data[index,], [100, 50, 25, 10])"
   ]
  },
  {
   "cell_type": "code",
   "execution_count": null,
   "metadata": {},
   "outputs": [],
   "source": []
  }
 ],
 "metadata": {
  "kernelspec": {
   "display_name": "Python 3",
   "language": "python",
   "name": "python3"
  },
  "language_info": {
   "codemirror_mode": {
    "name": "ipython",
    "version": 3
   },
   "file_extension": ".py",
   "mimetype": "text/x-python",
   "name": "python",
   "nbconvert_exporter": "python",
   "pygments_lexer": "ipython3",
   "version": "3.7.3"
  }
 },
 "nbformat": 4,
 "nbformat_minor": 4
}
