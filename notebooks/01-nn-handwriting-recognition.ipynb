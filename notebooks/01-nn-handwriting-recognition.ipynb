{
 "cells": [
  {
   "cell_type": "markdown",
   "metadata": {},
   "source": [
    "## Handwritten digit recognition MNIST dataset\n",
    "\n",
    "The [MNIST](http://yann.lecun.com/exdb/mnist/) dataset contains 60,000 images each 28x28 pixels of handwritten digits with correct labels. There are additional 10,000 images of test set. \n",
    "\n",
    "**What we will learn?**\n",
    "- Nearest neighbor (NN) algorithm of classification\n",
    "- Various distance functions\n",
    "- K-nearest neighbors (KNN)\n",
    "- Principle component analysis (PCA)"
   ]
  },
  {
   "cell_type": "code",
   "execution_count": 1,
   "metadata": {},
   "outputs": [],
   "source": [
    "import io, gzip \n",
    "from urllib.request import urlopen\n",
    "import numpy as np\n",
    "import matplotlib.pyplot as plt \n",
    "\n",
    "%matplotlib inline"
   ]
  },
  {
   "cell_type": "code",
   "execution_count": 2,
   "metadata": {},
   "outputs": [],
   "source": [
    "# load images\n",
    "def mnist_images(url):  \n",
    "    with gzip.open(io.BytesIO(urlopen(url).read()), 'rb') as f:\n",
    "        data = np.frombuffer(f.read(), np.uint8, offset=16)\n",
    "        # consult http://yann.lecun.com/exdb/mnist/ for details \n",
    "    data = data.reshape(-1,784)\n",
    "    return data/256  # we are using int8, squared distance could be large\n",
    "\n",
    "# load image labels\n",
    "def mnist_labels(url):        \n",
    "    with gzip.open(io.BytesIO(urlopen(url).read()), 'rb') as f:\n",
    "        data = np.frombuffer(f.read(), np.uint8, offset=8)\n",
    "    return data\n",
    "\n",
    "# plot/view a specific image\n",
    "def mnist_view(im):\n",
    "    plt.axis('off')\n",
    "    plt.imshow(im.reshape((28,28)), cmap=plt.cm.gray, origin='upper')\n",
    "    plt.show()\n",
    "    return\n",
    "\n",
    "# calculate squared distance\n",
    "def dist(x1, x2):\n",
    "    return np.sum(np.square(x1-x2))\n",
    "\n",
    "# find nearest neighbor \n",
    "def find_nn(x):\n",
    "    dist_vec = [dist(x, train_data[i,]) for i in range(len(train_labels))]\n",
    "    print(\"Index: \", np.argmin(dist_vec))\n",
    "    return train_labels[np.argmin(dist_vec)]"
   ]
  },
  {
   "cell_type": "code",
   "execution_count": 3,
   "metadata": {},
   "outputs": [],
   "source": [
    "train_data = mnist_images('https://pranabdas.github.io/drive/datasets/mnist-handwritten-digits/train-images-idx3-ubyte.gz')\n",
    "test_data    = mnist_images('https://pranabdas.github.io/drive/datasets/mnist-handwritten-digits/t10k-images-idx3-ubyte.gz')\n",
    "train_labels = mnist_labels('https://pranabdas.github.io/drive/datasets/mnist-handwritten-digits/train-labels-idx1-ubyte.gz')\n",
    "test_labels  = mnist_labels('https://pranabdas.github.io/drive/datasets/mnist-handwritten-digits/t10k-labels-idx1-ubyte.gz')"
   ]
  },
  {
   "cell_type": "code",
   "execution_count": 4,
   "metadata": {},
   "outputs": [
    {
     "data": {
      "image/png": "[encoded data removed]",
      "text/plain": [
       "<Figure size 432x288 with 1 Axes>"
      ]
     },
     "metadata": {
      "needs_background": "light"
     },
     "output_type": "display_data"
    }
   ],
   "source": [
    "# view a sample data\n",
    "mnist_view(train_data[50,:]);"
   ]
  },
  {
   "cell_type": "code",
   "execution_count": 5,
   "metadata": {},
   "outputs": [
    {
     "name": "stdout",
     "output_type": "stream",
     "text": [
      "Label: 3\n"
     ]
    }
   ],
   "source": [
    "# print the corresponding label \n",
    "print(\"Label:\", train_labels[50])"
   ]
  },
  {
   "cell_type": "code",
   "execution_count": 6,
   "metadata": {},
   "outputs": [
    {
     "name": "stdout",
     "output_type": "stream",
     "text": [
      "Index:  57158\n"
     ]
    },
    {
     "data": {
      "text/plain": [
       "6"
      ]
     },
     "execution_count": 6,
     "metadata": {},
     "output_type": "execute_result"
    }
   ],
   "source": [
    "find_nn(test_data[100, :])"
   ]
  },
  {
   "cell_type": "code",
   "execution_count": 7,
   "metadata": {},
   "outputs": [
    {
     "data": {
      "image/png": "[encoded data removed]",
      "text/plain": [
       "<Figure size 432x288 with 1 Axes>"
      ]
     },
     "metadata": {
      "needs_background": "light"
     },
     "output_type": "display_data"
    }
   ],
   "source": [
    "mnist_view(test_data[100, :])"
   ]
  },
  {
   "cell_type": "code",
   "execution_count": 8,
   "metadata": {},
   "outputs": [
    {
     "data": {
      "image/png": "[encoded data removed]",
      "text/plain": [
       "<Figure size 432x288 with 1 Axes>"
      ]
     },
     "metadata": {
      "needs_background": "light"
     },
     "output_type": "display_data"
    }
   ],
   "source": [
    "mnist_view(train_data[57158, ])"
   ]
  },
  {
   "cell_type": "markdown",
   "metadata": {},
   "source": [
    "Notice that in oder to find nearest neighbors we need to go through each training data point. There are better search algorithms to look for nearest neighbors quickly. We can use scikit learn, there are KDTree and BallTree."
   ]
  },
  {
   "cell_type": "code",
   "execution_count": 11,
   "metadata": {},
   "outputs": [],
   "source": [
    "from sklearn.neighbors import BallTree, KDTree\n",
    "\n",
    "ball_tree = BallTree(train_data)\n",
    "kd_tree = KDTree(train_data)"
   ]
  },
  {
   "cell_type": "code",
   "execution_count": 12,
   "metadata": {},
   "outputs": [
    {
     "data": {
      "text/plain": [
       "6"
      ]
     },
     "execution_count": 12,
     "metadata": {},
     "output_type": "execute_result"
    }
   ],
   "source": [
    "train_labels[ball_tree.query(test_data[100, :].reshape(1, -1), \\\n",
    "                             k=1, return_distance=False)[0][0]]"
   ]
  },
  {
   "cell_type": "code",
   "execution_count": 13,
   "metadata": {},
   "outputs": [
    {
     "data": {
      "text/plain": [
       "6"
      ]
     },
     "execution_count": 13,
     "metadata": {},
     "output_type": "execute_result"
    }
   ],
   "source": [
    "train_labels[kd_tree.query(test_data[100, :].reshape(1, -1), k=1, \\\n",
    "                           return_distance=False)[0][0]]"
   ]
  },
  {
   "cell_type": "markdown",
   "metadata": {},
   "source": [
    "Above two sklearn and our own algorithm would produce same result, but time to find the nearest neighbor is faster in case of KDTree and BallTree."
   ]
  },
  {
   "cell_type": "code",
   "execution_count": 38,
   "metadata": {},
   "outputs": [],
   "source": [
    "# Let's calculate the precision of nearest neighbor algorithm\n",
    "\n",
    "result = [train_labels[ball_tree.query(test_data[i, :].reshape(1, -1), k=1, \\\n",
    "         return_distance=False)[0][0]] for i in range(len(test_labels))]"
   ]
  },
  {
   "cell_type": "code",
   "execution_count": 39,
   "metadata": {},
   "outputs": [
    {
     "name": "stdout",
     "output_type": "stream",
     "text": [
      "Success = 96.91 %\n"
     ]
    }
   ],
   "source": [
    "correct_result = np.equal(result, test_labels)\n",
    "success = float(np.sum(correct_result))/len(test_labels)\n",
    "print('Success =', success*100, '%')"
   ]
  },
  {
   "cell_type": "code",
   "execution_count": 32,
   "metadata": {},
   "outputs": [],
   "source": [
    "# np.savetxt('mnist_test_images.gz', test_data, fmt='%d')\n",
    "# tst_l = np.loadtxt('mnist_test_labels.gz')"
   ]
  },
  {
   "cell_type": "code",
   "execution_count": null,
   "metadata": {},
   "outputs": [],
   "source": []
  }
 ],
 "metadata": {
  "kernelspec": {
   "display_name": "Python 3",
   "language": "python",
   "name": "python3"
  },
  "language_info": {
   "codemirror_mode": {
    "name": "ipython",
    "version": 3
   },
   "file_extension": ".py",
   "mimetype": "text/x-python",
   "name": "python",
   "nbconvert_exporter": "python",
   "pygments_lexer": "ipython3",
   "version": "3.7.3"
  }
 },
 "nbformat": 4,
 "nbformat_minor": 4
}
